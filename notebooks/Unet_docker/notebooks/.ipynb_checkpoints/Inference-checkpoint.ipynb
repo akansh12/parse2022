{
 "cells": [
  {
   "cell_type": "code",
   "execution_count": 1,
   "id": "be1fe26a",
   "metadata": {},
   "outputs": [],
   "source": [
    "import torch\n",
    "import monai\n",
    "from monai.utils import first, set_determinism\n",
    "from monai.transforms import (\n",
    "    AsDiscrete,\n",
    "    AsDiscreted,\n",
    "    EnsureChannelFirstd,\n",
    "    Compose,\n",
    "    CropForegroundd,\n",
    "    LoadImaged,\n",
    "    Orientationd,\n",
    "    RandCropByPosNegLabeld,\n",
    "    SaveImaged,\n",
    "    ScaleIntensityRanged,\n",
    "    Spacingd, \n",
    "    EnsureTyped,\n",
    "    EnsureType,\n",
    "    Invertd\n",
    ")\n",
    "\n",
    "from monai.metrics import DiceMetric\n",
    "from monai.losses import DiceLoss\n",
    "from monai.inferers import sliding_window_inference\n",
    "from monai.data import CacheDataset, DataLoader, Dataset, decollate_batch\n",
    "from monai.config import print_config\n",
    "from monai.apps import download_and_extract\n",
    "import matplotlib.pyplot as plt\n",
    "import tempfile\n",
    "import shutil\n",
    "import os\n",
    "import glob\n",
    "import nibabel as nib\n",
    "import numpy as np\n",
    "from tqdm.notebook import tqdm"
   ]
  },
  {
   "cell_type": "code",
   "execution_count": 2,
   "id": "30cec560",
   "metadata": {},
   "outputs": [],
   "source": [
    "import nibabel as nib\n",
    "import warnings\n",
    "warnings.filterwarnings('ignore')"
   ]
  },
  {
   "cell_type": "code",
   "execution_count": null,
   "id": "a3a940bc",
   "metadata": {},
   "outputs": [],
   "source": []
  },
  {
   "cell_type": "markdown",
   "id": "99d49d8f",
   "metadata": {},
   "source": [
    "## Experiment-1"
   ]
  },
  {
   "cell_type": "code",
   "execution_count": 11,
   "id": "5aab25a2",
   "metadata": {},
   "outputs": [],
   "source": [
    "from model import model\n",
    "model_trained = model(\"/scratch/scratch6/akansh12/challenges/parse2022/temp/best_metric_model_Unet_1000_hu.pth\")"
   ]
  },
  {
   "cell_type": "markdown",
   "id": "a6bbd1a9",
   "metadata": {},
   "source": [
    "### Dataset"
   ]
  },
  {
   "cell_type": "code",
   "execution_count": 12,
   "id": "7815d687",
   "metadata": {},
   "outputs": [],
   "source": [
    "root_dir = \"/scratch/scratch6/akansh12/Parse_data/evaluation/\"\n",
    "test_files_path = sorted(glob.glob(os.path.join(root_dir, \"*.nii.gz\")))\n",
    "test_data = [{\"images\": image_name } for image_name in test_files_path]"
   ]
  },
  {
   "cell_type": "code",
   "execution_count": 13,
   "id": "d4c50fbf",
   "metadata": {},
   "outputs": [],
   "source": [
    "test_transforms = Compose(\n",
    "    [\n",
    "        LoadImaged(keys=[\"images\"]),\n",
    "        EnsureChannelFirstd(keys=[\"images\"]),\n",
    "        Orientationd(keys=[\"images\"], axcodes=\"LPS\"),\n",
    "        Spacingd(keys=[\"images\"], pixdim=(\n",
    "            1.5, 1.5, 2.0), mode=(\"bilinear\")),\n",
    "        ScaleIntensityRanged(\n",
    "            keys=[\"images\"], a_min=-1000, a_max=1000,\n",
    "            b_min=0.0, b_max=1.0, clip=True,\n",
    "        ),\n",
    "        CropForegroundd(keys=[\"images\"], source_key=\"images\"),\n",
    "        EnsureTyped(keys=[\"images\"]),\n",
    "    ]\n",
    ")"
   ]
  },
  {
   "cell_type": "code",
   "execution_count": 14,
   "id": "385732c3",
   "metadata": {},
   "outputs": [
    {
     "name": "stderr",
     "output_type": "stream",
     "text": [
      "Loading dataset: 100%|███████████████████████████████████████████████████████████████████████████████████████████████████████████████████████████████████████| 30/30 [00:40<00:00,  1.37s/it]\n"
     ]
    }
   ],
   "source": [
    "test_ds = CacheDataset(\n",
    "    data = test_data, transform = test_transforms,\n",
    "    cache_rate = 1.0, num_workers = 4\n",
    ")\n",
    "test_loader = DataLoader(test_ds, batch_size = 1, shuffle = False, num_workers=4)"
   ]
  },
  {
   "cell_type": "markdown",
   "id": "e64ee273",
   "metadata": {},
   "source": [
    "### Post transforms"
   ]
  },
  {
   "cell_type": "code",
   "execution_count": 16,
   "id": "a4599421",
   "metadata": {},
   "outputs": [],
   "source": [
    "os.makedirs(\"./submit\",exist_ok= True)"
   ]
  },
  {
   "cell_type": "code",
   "execution_count": 22,
   "id": "8e340760",
   "metadata": {},
   "outputs": [],
   "source": [
    "post_transforms = Compose([\n",
    "    Invertd(\n",
    "        keys=\"pred\",\n",
    "        transform=test_transforms,\n",
    "        orig_keys=\"images\",\n",
    "        meta_keys=None,\n",
    "        orig_meta_keys=None,\n",
    "        meta_key_postfix=\"meta_dict\",\n",
    "        nearest_interp=False,\n",
    "        to_tensor=True,\n",
    "    ),\n",
    "    AsDiscreted(keys=\"pred\", argmax=True, to_onehot=2),\n",
    "    SaveImaged(keys=\"pred\", meta_keys=\"pred_meta_dict\", output_dir=\"./submit\", output_postfix='seg', resample=False),\n",
    "])"
   ]
  },
  {
   "cell_type": "code",
   "execution_count": 23,
   "id": "f9cf2211",
   "metadata": {},
   "outputs": [
    {
     "name": "stdout",
     "output_type": "stream",
     "text": [
      "2022-07-17 14:07:05,525 INFO image_writer.py:190 - writing: submit/PA000013/PA000013_seg.nii.gz\n",
      "2022-07-17 14:07:28,324 INFO image_writer.py:190 - writing: submit/PA000032/PA000032_seg.nii.gz\n",
      "2022-07-17 14:07:51,483 INFO image_writer.py:190 - writing: submit/PA000044/PA000044_seg.nii.gz\n",
      "2022-07-17 14:08:12,674 INFO image_writer.py:190 - writing: submit/PA000045/PA000045_seg.nii.gz\n",
      "2022-07-17 14:08:32,182 INFO image_writer.py:190 - writing: submit/PA000051/PA000051_seg.nii.gz\n",
      "2022-07-17 14:08:54,015 INFO image_writer.py:190 - writing: submit/PA000057/PA000057_seg.nii.gz\n",
      "2022-07-17 14:09:15,948 INFO image_writer.py:190 - writing: submit/PA000059/PA000059_seg.nii.gz\n",
      "2022-07-17 14:09:36,916 INFO image_writer.py:190 - writing: submit/PA000061/PA000061_seg.nii.gz\n",
      "2022-07-17 14:10:02,607 INFO image_writer.py:190 - writing: submit/PA000069/PA000069_seg.nii.gz\n",
      "2022-07-17 14:10:22,914 INFO image_writer.py:190 - writing: submit/PA000087/PA000087_seg.nii.gz\n",
      "2022-07-17 14:10:42,589 INFO image_writer.py:190 - writing: submit/PA000105/PA000105_seg.nii.gz\n",
      "2022-07-17 14:11:10,055 INFO image_writer.py:190 - writing: submit/PA000114/PA000114_seg.nii.gz\n",
      "2022-07-17 14:11:32,589 INFO image_writer.py:190 - writing: submit/PA000117/PA000117_seg.nii.gz\n",
      "2022-07-17 14:11:52,247 INFO image_writer.py:190 - writing: submit/PA000119/PA000119_seg.nii.gz\n",
      "2022-07-17 14:12:12,896 INFO image_writer.py:190 - writing: submit/PA000122/PA000122_seg.nii.gz\n",
      "2022-07-17 14:12:39,955 INFO image_writer.py:190 - writing: submit/PA000126/PA000126_seg.nii.gz\n",
      "2022-07-17 14:13:03,879 INFO image_writer.py:190 - writing: submit/PA000136/PA000136_seg.nii.gz\n",
      "2022-07-17 14:13:24,820 INFO image_writer.py:190 - writing: submit/PA000164/PA000164_seg.nii.gz\n",
      "2022-07-17 14:13:45,912 INFO image_writer.py:190 - writing: submit/PA000165/PA000165_seg.nii.gz\n",
      "2022-07-17 14:14:05,770 INFO image_writer.py:190 - writing: submit/PA000172/PA000172_seg.nii.gz\n",
      "2022-07-17 14:14:30,895 INFO image_writer.py:190 - writing: submit/PA000187/PA000187_seg.nii.gz\n",
      "2022-07-17 14:14:52,529 INFO image_writer.py:190 - writing: submit/PA000192/PA000192_seg.nii.gz\n",
      "2022-07-17 14:15:15,035 INFO image_writer.py:190 - writing: submit/PA000218/PA000218_seg.nii.gz\n",
      "2022-07-17 14:15:36,371 INFO image_writer.py:190 - writing: submit/PA000219/PA000219_seg.nii.gz\n",
      "2022-07-17 14:15:57,603 INFO image_writer.py:190 - writing: submit/PA000256/PA000256_seg.nii.gz\n",
      "2022-07-17 14:16:19,078 INFO image_writer.py:190 - writing: submit/PA000269/PA000269_seg.nii.gz\n",
      "2022-07-17 14:16:41,394 INFO image_writer.py:190 - writing: submit/PA000288/PA000288_seg.nii.gz\n",
      "2022-07-17 14:17:08,501 INFO image_writer.py:190 - writing: submit/PA000304/PA000304_seg.nii.gz\n",
      "2022-07-17 14:17:39,559 INFO image_writer.py:190 - writing: submit/PA000312/PA000312_seg.nii.gz\n",
      "2022-07-17 14:18:05,067 INFO image_writer.py:190 - writing: submit/PA000316/PA000316_seg.nii.gz\n"
     ]
    }
   ],
   "source": [
    "model_trained = model(\"/scratch/scratch6/akansh12/challenges/parse2022/temp/best_metric_model_Unet_1000_hu.pth\")\n",
    "model_trained.eval()\n",
    "with torch.no_grad():\n",
    "    for test_data in test_loader:\n",
    "        test_inputs = test_data[\"images\"]\n",
    "        roi_size = (160, 160, 160)\n",
    "        sw_batch_size = 4\n",
    "        test_data[\"pred\"] = sliding_window_inference(\n",
    "            test_inputs, roi_size, sw_batch_size, model_trained)\n",
    "\n",
    "        test_data = [post_transforms(i) for i in decollate_batch(test_data)]"
   ]
  },
  {
   "cell_type": "code",
   "execution_count": 5,
   "id": "030f29b4",
   "metadata": {},
   "outputs": [],
   "source": [
    "out = nib.load(\"./submit/PA000013/PA000013_seg.nii.gz\")\n",
    "out_data = out.get_fdata()\n",
    "orig = nib.load(test_files_path[0])\n",
    "orig_data = orig.get_fdata()"
   ]
  },
  {
   "cell_type": "code",
   "execution_count": 49,
   "id": "adae51a1",
   "metadata": {},
   "outputs": [
    {
     "data": {
      "text/plain": [
       "<matplotlib.image.AxesImage at 0x7fa0968f2710>"
      ]
     },
     "execution_count": 49,
     "metadata": {},
     "output_type": "execute_result"
    },
    {
     "data": {
      "image/png": "[encoded data removed]",
      "text/plain": [
       "<Figure size 432x288 with 1 Axes>"
      ]
     },
     "metadata": {
      "needs_background": "light"
     },
     "output_type": "display_data"
    }
   ],
   "source": [
    "plt.imshow(np.rot90(out_data[:,:,:,1].sum(axis = 2)), cmap = 'gray')"
   ]
  },
  {
   "cell_type": "code",
   "execution_count": 51,
   "id": "483d09c9",
   "metadata": {},
   "outputs": [
    {
     "data": {
      "text/plain": [
       "<matplotlib.image.AxesImage at 0x7fa0968753d0>"
      ]
     },
     "execution_count": 51,
     "metadata": {},
     "output_type": "execute_result"
    },
    {
     "data": {
      "image/png": "[encoded data removed]",
      "text/plain": [
       "<Figure size 432x288 with 1 Axes>"
      ]
     },
     "metadata": {
      "needs_background": "light"
     },
     "output_type": "display_data"
    }
   ],
   "source": [
    "plt.imshow(np.rot90(orig_data[:,:,:].sum(axis = 2)), cmap = 'gray')"
   ]
  },
  {
   "cell_type": "code",
   "execution_count": null,
   "id": "c17b52df",
   "metadata": {},
   "outputs": [],
   "source": []
  },
  {
   "cell_type": "markdown",
   "id": "6d1dd699",
   "metadata": {},
   "source": [
    "## Experiment-2: (160,160,160)"
   ]
  },
  {
   "cell_type": "code",
   "execution_count": 105,
   "id": "7a72109c",
   "metadata": {},
   "outputs": [
    {
     "data": {
      "text/plain": [
       "<All keys matched successfully>"
      ]
     },
     "execution_count": 105,
     "metadata": {},
     "output_type": "execute_result"
    }
   ],
   "source": [
    "from monai.networks.nets import UNet\n",
    "from monai.networks.layers import Norm\n",
    "import torch\n",
    "from collections import OrderedDict\n",
    "device = torch.device(\"cuda\") if torch.cuda.is_available() else torch.device(\"cpu\") \n",
    "\n",
    "UNet_meatdata = dict(\n",
    "    spatial_dims=3,\n",
    "    in_channels=1,\n",
    "    out_channels=2,\n",
    "    channels=(16, 32, 64, 128, 256),\n",
    "    strides=(2, 2, 2, 2),\n",
    "    num_res_units=2,\n",
    "    norm=Norm.BATCH\n",
    "    )\n",
    "\n",
    "model = UNet(**UNet_meatdata).to(device)\n",
    "path2weights = \"/scratch/scratch6/akansh12/challenges/parse2022/temp/unet_1000_hu_no_spacing_160_0853.pth\"\n",
    "state_dict = torch.load(path2weights, map_location='cpu')\n",
    "\n",
    "for keyA, keyB in zip(state_dict, model.state_dict()):\n",
    "    state_dict = OrderedDict((keyB if k == keyA else k, v) for k, v in state_dict.items())\n",
    "model.load_state_dict(state_dict)"
   ]
  },
  {
   "cell_type": "code",
   "execution_count": 106,
   "id": "ffbf7116",
   "metadata": {
    "scrolled": true
   },
   "outputs": [
    {
     "name": "stderr",
     "output_type": "stream",
     "text": [
      "Loading dataset: 100%|████████████████████████████████████████████████████████████████████████████████████████████████████| 30/30 [00:41<00:00,  1.40s/it]\n"
     ]
    }
   ],
   "source": [
    "root_dir = \"/scratch/scratch6/akansh12/Parse_data/evaluation/\"\n",
    "test_files_path = sorted(glob.glob(os.path.join(root_dir, \"*.nii.gz\")))\n",
    "test_data = [{\"images\": image_name } for image_name in test_files_path]\n",
    "\n",
    "test_transforms = Compose(\n",
    "    [\n",
    "        LoadImaged(keys=[\"images\"]),\n",
    "        EnsureChannelFirstd(keys=[\"images\"]),\n",
    "        Orientationd(keys=[\"images\"], axcodes=\"LPS\"),\n",
    "#         Spacingd(keys=[\"images\"], pixdim=(\n",
    "#             1.5, 1.5, 2.0), mode=(\"bilinear\")),\n",
    "        ScaleIntensityRanged(\n",
    "            keys=[\"images\"], a_min=-1000, a_max=1000,\n",
    "            b_min=0.0, b_max=1.0, clip=True,\n",
    "        ),\n",
    "        CropForegroundd(keys=[\"images\"], source_key=\"images\"),\n",
    "        EnsureTyped(keys=[\"images\"]),\n",
    "    ]\n",
    ")\n",
    "\n",
    "test_ds = CacheDataset(\n",
    "    data = test_data, transform = test_transforms,\n",
    "    cache_rate = 1.0, num_workers = 4\n",
    ")\n",
    "test_loader = DataLoader(test_ds, batch_size = 1, shuffle = False, num_workers=4)"
   ]
  },
  {
   "cell_type": "code",
   "execution_count": 109,
   "id": "fdf2b58f",
   "metadata": {},
   "outputs": [],
   "source": [
    "os.makedirs(\"./submit\",exist_ok= True)"
   ]
  },
  {
   "cell_type": "code",
   "execution_count": 110,
   "id": "7a9203c3",
   "metadata": {},
   "outputs": [],
   "source": [
    "post_transforms = Compose([\n",
    "    Invertd(\n",
    "        keys=\"pred\",\n",
    "        transform=test_transforms,\n",
    "        orig_keys=\"images\",\n",
    "        meta_keys=None,\n",
    "        orig_meta_keys=None,\n",
    "        meta_key_postfix=\"meta_dict\",\n",
    "        nearest_interp=False,\n",
    "        to_tensor=True,\n",
    "    ),\n",
    "    AsDiscreted(keys=\"pred\", argmax=True),\n",
    "    SaveImaged(keys=\"pred\", meta_keys=\"pred_meta_dict\", output_dir=\"./submit\", output_postfix='seg', resample=False),\n",
    "])"
   ]
  },
  {
   "cell_type": "code",
   "execution_count": 111,
   "id": "0aee4f30",
   "metadata": {},
   "outputs": [
    {
     "name": "stdout",
     "output_type": "stream",
     "text": [
      "2022-07-19 16:49:37,227 INFO image_writer.py:190 - writing: submit/PA000013/PA000013_seg.nii.gz\n",
      "2022-07-19 16:50:27,150 INFO image_writer.py:190 - writing: submit/PA000032/PA000032_seg.nii.gz\n",
      "2022-07-19 16:51:17,947 INFO image_writer.py:190 - writing: submit/PA000044/PA000044_seg.nii.gz\n",
      "2022-07-19 16:52:07,990 INFO image_writer.py:190 - writing: submit/PA000045/PA000045_seg.nii.gz\n",
      "2022-07-19 16:52:37,139 INFO image_writer.py:190 - writing: submit/PA000051/PA000051_seg.nii.gz\n",
      "2022-07-19 16:53:26,928 INFO image_writer.py:190 - writing: submit/PA000057/PA000057_seg.nii.gz\n",
      "2022-07-19 16:54:18,376 INFO image_writer.py:190 - writing: submit/PA000059/PA000059_seg.nii.gz\n",
      "2022-07-19 16:55:07,416 INFO image_writer.py:190 - writing: submit/PA000061/PA000061_seg.nii.gz\n",
      "2022-07-19 16:55:58,022 INFO image_writer.py:190 - writing: submit/PA000069/PA000069_seg.nii.gz\n",
      "2022-07-19 16:56:27,695 INFO image_writer.py:190 - writing: submit/PA000087/PA000087_seg.nii.gz\n",
      "2022-07-19 16:57:16,951 INFO image_writer.py:190 - writing: submit/PA000105/PA000105_seg.nii.gz\n",
      "2022-07-19 16:58:08,941 INFO image_writer.py:190 - writing: submit/PA000114/PA000114_seg.nii.gz\n",
      "2022-07-19 16:58:57,699 INFO image_writer.py:190 - writing: submit/PA000117/PA000117_seg.nii.gz\n",
      "2022-07-19 16:59:46,539 INFO image_writer.py:190 - writing: submit/PA000119/PA000119_seg.nii.gz\n",
      "2022-07-19 17:00:35,639 INFO image_writer.py:190 - writing: submit/PA000122/PA000122_seg.nii.gz\n",
      "2022-07-19 17:01:26,736 INFO image_writer.py:190 - writing: submit/PA000126/PA000126_seg.nii.gz\n",
      "2022-07-19 17:02:19,293 INFO image_writer.py:190 - writing: submit/PA000136/PA000136_seg.nii.gz\n",
      "2022-07-19 17:03:08,824 INFO image_writer.py:190 - writing: submit/PA000164/PA000164_seg.nii.gz\n",
      "2022-07-19 17:03:57,996 INFO image_writer.py:190 - writing: submit/PA000165/PA000165_seg.nii.gz\n",
      "2022-07-19 17:04:28,615 INFO image_writer.py:190 - writing: submit/PA000172/PA000172_seg.nii.gz\n",
      "2022-07-19 17:05:30,645 INFO image_writer.py:190 - writing: submit/PA000187/PA000187_seg.nii.gz\n",
      "2022-07-19 17:06:28,061 INFO image_writer.py:190 - writing: submit/PA000192/PA000192_seg.nii.gz\n",
      "2022-07-19 17:07:25,334 INFO image_writer.py:190 - writing: submit/PA000218/PA000218_seg.nii.gz\n",
      "2022-07-19 17:08:22,707 INFO image_writer.py:190 - writing: submit/PA000219/PA000219_seg.nii.gz\n",
      "2022-07-19 17:09:16,265 INFO image_writer.py:190 - writing: submit/PA000256/PA000256_seg.nii.gz\n",
      "2022-07-19 17:10:07,606 INFO image_writer.py:190 - writing: submit/PA000269/PA000269_seg.nii.gz\n",
      "2022-07-19 17:11:00,089 INFO image_writer.py:190 - writing: submit/PA000288/PA000288_seg.nii.gz\n",
      "2022-07-19 17:11:53,997 INFO image_writer.py:190 - writing: submit/PA000304/PA000304_seg.nii.gz\n",
      "2022-07-19 17:12:50,252 INFO image_writer.py:190 - writing: submit/PA000312/PA000312_seg.nii.gz\n",
      "2022-07-19 17:13:45,968 INFO image_writer.py:190 - writing: submit/PA000316/PA000316_seg.nii.gz\n"
     ]
    }
   ],
   "source": [
    "model.eval()\n",
    "with torch.no_grad():\n",
    "    for test_data in test_loader:\n",
    "        test_inputs = test_data[\"images\"]\n",
    "        roi_size = (256, 256, 256)\n",
    "        sw_batch_size = 8\n",
    "        test_data[\"pred\"] = sliding_window_inference(\n",
    "            test_inputs, roi_size, sw_batch_size, model)\n",
    "        test_data = [post_transforms(i) for i in decollate_batch(test_data)]"
   ]
  },
  {
   "cell_type": "markdown",
   "id": "4e19a72e",
   "metadata": {},
   "source": [
    "## Experiment3  (160, 160,160) More data"
   ]
  },
  {
   "cell_type": "code",
   "execution_count": 3,
   "id": "b31dfe09",
   "metadata": {},
   "outputs": [
    {
     "data": {
      "text/plain": [
       "<All keys matched successfully>"
      ]
     },
     "execution_count": 3,
     "metadata": {},
     "output_type": "execute_result"
    }
   ],
   "source": [
    "from monai.networks.nets import UNet\n",
    "from monai.networks.layers import Norm\n",
    "import torch\n",
    "from collections import OrderedDict\n",
    "device = torch.device(\"cuda\") if torch.cuda.is_available() else torch.device(\"cpu\") \n",
    "\n",
    "UNet_meatdata = dict(\n",
    "    spatial_dims=3,\n",
    "    in_channels=1,\n",
    "    out_channels=2,\n",
    "    channels=(16, 32, 64, 128, 256),\n",
    "    strides=(2, 2, 2, 2),\n",
    "    num_res_units=2,\n",
    "    norm=Norm.BATCH\n",
    "    )\n",
    "\n",
    "model = UNet(**UNet_meatdata).to(device)\n",
    "path2weights = \"/scratch/scratch6/akansh12/challenges/parse2022/temp/selected_models/unet_1000_hu_160_w_augmentations_more_data_focal_8860.pth\"\n",
    "state_dict = torch.load(path2weights, map_location='cpu')\n",
    "\n",
    "for keyA, keyB in zip(state_dict, model.state_dict()):\n",
    "    state_dict = OrderedDict((keyB if k == keyA else k, v) for k, v in state_dict.items())\n",
    "model.load_state_dict(state_dict)"
   ]
  },
  {
   "cell_type": "code",
   "execution_count": 4,
   "id": "b7bde70e",
   "metadata": {},
   "outputs": [
    {
     "name": "stderr",
     "output_type": "stream",
     "text": [
      "Loading dataset: 100%|████████████████████████████████████████████████████████████████████████████████████████████████████| 30/30 [00:46<00:00,  1.54s/it]\n"
     ]
    }
   ],
   "source": [
    "root_dir = \"/scratch/scratch6/akansh12/Parse_data/evaluation/\"\n",
    "test_files_path = sorted(glob.glob(os.path.join(root_dir, \"*.nii.gz\")))\n",
    "test_data = [{\"images\": image_name } for image_name in test_files_path]\n",
    "\n",
    "test_transforms = Compose(\n",
    "    [\n",
    "        LoadImaged(keys=[\"images\"]),\n",
    "        EnsureChannelFirstd(keys=[\"images\"]),\n",
    "        Orientationd(keys=[\"images\"], axcodes=\"LPS\"),\n",
    "#         Spacingd(keys=[\"images\"], pixdim=(\n",
    "#             1.5, 1.5, 2.0), mode=(\"bilinear\")),\n",
    "        ScaleIntensityRanged(\n",
    "            keys=[\"images\"], a_min=-1000, a_max=1000,\n",
    "            b_min=0.0, b_max=1.0, clip=True,\n",
    "        ),\n",
    "        CropForegroundd(keys=[\"images\"], source_key=\"images\"),\n",
    "        EnsureTyped(keys=[\"images\"]),\n",
    "    ]\n",
    ")\n",
    "\n",
    "test_ds = CacheDataset(\n",
    "    data = test_data, transform = test_transforms,\n",
    "    cache_rate = 1.0, num_workers = 4\n",
    ")\n",
    "test_loader = DataLoader(test_ds, batch_size = 1, shuffle = False, num_workers=4)"
   ]
  },
  {
   "cell_type": "code",
   "execution_count": 5,
   "id": "9153c52d",
   "metadata": {},
   "outputs": [],
   "source": [
    "os.makedirs(\"./submit\",exist_ok= True)"
   ]
  },
  {
   "cell_type": "code",
   "execution_count": 7,
   "id": "c64d8680",
   "metadata": {},
   "outputs": [],
   "source": [
    "post_transforms = Compose([\n",
    "    Invertd(\n",
    "        keys=\"pred\",\n",
    "        transform=test_transforms,\n",
    "        orig_keys=\"images\",\n",
    "        meta_keys=None,\n",
    "        orig_meta_keys=None,\n",
    "        meta_key_postfix=\"meta_dict\",\n",
    "        nearest_interp=False,\n",
    "        to_tensor=True,\n",
    "    ),\n",
    "    AsDiscreted(keys=\"pred\", argmax=True),\n",
    "    SaveImaged(keys=\"pred\", meta_keys=\"pred_meta_dict\", output_dir=\"./submit\", output_postfix='seg', resample=False),\n",
    "])"
   ]
  },
  {
   "cell_type": "code",
   "execution_count": 8,
   "id": "23ee950a",
   "metadata": {},
   "outputs": [
    {
     "name": "stdout",
     "output_type": "stream",
     "text": [
      "2022-07-21 18:27:54,694 INFO image_writer.py:190 - writing: submit/PA000013/PA000013_seg.nii.gz\n",
      "2022-07-21 18:29:04,482 INFO image_writer.py:190 - writing: submit/PA000032/PA000032_seg.nii.gz\n",
      "2022-07-21 18:30:14,695 INFO image_writer.py:190 - writing: submit/PA000044/PA000044_seg.nii.gz\n",
      "2022-07-21 18:30:54,611 INFO image_writer.py:190 - writing: submit/PA000045/PA000045_seg.nii.gz\n",
      "2022-07-21 18:31:33,701 INFO image_writer.py:190 - writing: submit/PA000051/PA000051_seg.nii.gz\n",
      "2022-07-21 18:32:42,449 INFO image_writer.py:190 - writing: submit/PA000057/PA000057_seg.nii.gz\n",
      "2022-07-21 18:33:22,923 INFO image_writer.py:190 - writing: submit/PA000059/PA000059_seg.nii.gz\n",
      "2022-07-21 18:34:02,732 INFO image_writer.py:190 - writing: submit/PA000061/PA000061_seg.nii.gz\n",
      "2022-07-21 18:35:12,023 INFO image_writer.py:190 - writing: submit/PA000069/PA000069_seg.nii.gz\n",
      "2022-07-21 18:35:50,930 INFO image_writer.py:190 - writing: submit/PA000087/PA000087_seg.nii.gz\n",
      "2022-07-21 18:36:29,854 INFO image_writer.py:190 - writing: submit/PA000105/PA000105_seg.nii.gz\n",
      "2022-07-21 18:37:40,111 INFO image_writer.py:190 - writing: submit/PA000114/PA000114_seg.nii.gz\n",
      "2022-07-21 18:38:20,227 INFO image_writer.py:190 - writing: submit/PA000117/PA000117_seg.nii.gz\n",
      "2022-07-21 18:38:59,354 INFO image_writer.py:190 - writing: submit/PA000119/PA000119_seg.nii.gz\n",
      "2022-07-21 18:39:39,495 INFO image_writer.py:190 - writing: submit/PA000122/PA000122_seg.nii.gz\n",
      "2022-07-21 18:40:49,403 INFO image_writer.py:190 - writing: submit/PA000126/PA000126_seg.nii.gz\n",
      "2022-07-21 18:41:58,636 INFO image_writer.py:190 - writing: submit/PA000136/PA000136_seg.nii.gz\n",
      "2022-07-21 18:42:38,414 INFO image_writer.py:190 - writing: submit/PA000164/PA000164_seg.nii.gz\n",
      "2022-07-21 18:43:18,307 INFO image_writer.py:190 - writing: submit/PA000165/PA000165_seg.nii.gz\n",
      "2022-07-21 18:43:57,556 INFO image_writer.py:190 - writing: submit/PA000172/PA000172_seg.nii.gz\n",
      "2022-07-21 18:45:07,047 INFO image_writer.py:190 - writing: submit/PA000187/PA000187_seg.nii.gz\n",
      "2022-07-21 18:45:46,413 INFO image_writer.py:190 - writing: submit/PA000192/PA000192_seg.nii.gz\n",
      "2022-07-21 18:46:55,046 INFO image_writer.py:190 - writing: submit/PA000218/PA000218_seg.nii.gz\n",
      "2022-07-21 18:47:34,950 INFO image_writer.py:190 - writing: submit/PA000219/PA000219_seg.nii.gz\n",
      "2022-07-21 18:48:42,687 INFO image_writer.py:190 - writing: submit/PA000256/PA000256_seg.nii.gz\n",
      "2022-07-21 18:49:23,894 INFO image_writer.py:190 - writing: submit/PA000269/PA000269_seg.nii.gz\n",
      "2022-07-21 18:50:32,208 INFO image_writer.py:190 - writing: submit/PA000288/PA000288_seg.nii.gz\n",
      "2022-07-21 18:51:41,952 INFO image_writer.py:190 - writing: submit/PA000304/PA000304_seg.nii.gz\n",
      "2022-07-21 18:52:53,967 INFO image_writer.py:190 - writing: submit/PA000312/PA000312_seg.nii.gz\n",
      "2022-07-21 18:54:04,198 INFO image_writer.py:190 - writing: submit/PA000316/PA000316_seg.nii.gz\n"
     ]
    }
   ],
   "source": [
    "model.eval()\n",
    "with torch.no_grad():\n",
    "    for test_data in test_loader:\n",
    "        test_inputs = test_data[\"images\"]\n",
    "        roi_size = (288, 288, 288)\n",
    "        sw_batch_size = 8\n",
    "        test_data[\"pred\"] = sliding_window_inference(\n",
    "            test_inputs, roi_size, sw_batch_size, model)\n",
    "        test_data = [post_transforms(i) for i in decollate_batch(test_data)]"
   ]
  },
  {
   "cell_type": "code",
   "execution_count": null,
   "id": "fde3238b",
   "metadata": {},
   "outputs": [],
   "source": []
  }
 ],
 "metadata": {
  "kernelspec": {
   "display_name": "Python 3 (ipykernel)",
   "language": "python",
   "name": "python3"
  },
  "language_info": {
   "codemirror_mode": {
    "name": "ipython",
    "version": 3
   },
   "file_extension": ".py",
   "mimetype": "text/x-python",
   "name": "python",
   "nbconvert_exporter": "python",
   "pygments_lexer": "ipython3",
   "version": "3.7.6"
  }
 },
 "nbformat": 4,
 "nbformat_minor": 5
}
