{
 "cells": [
  {
   "cell_type": "code",
   "execution_count": 14,
   "id": "b871df2d",
   "metadata": {},
   "outputs": [],
   "source": [
    "import os\n",
    "import glob\n",
    "import shutil\n",
    "import SimpleITK as sitk"
   ]
  },
  {
   "cell_type": "code",
   "execution_count": 2,
   "id": "05fec073",
   "metadata": {},
   "outputs": [],
   "source": [
    "import nibabel as nib\n",
    "import numpy as np"
   ]
  },
  {
   "cell_type": "code",
   "execution_count": 10,
   "id": "ef4ed312",
   "metadata": {},
   "outputs": [],
   "source": [
    "output = glob.glob(\"./submit_4/*/*.nii.gz\")\n",
    "dst = \"./submit/\""
   ]
  },
  {
   "cell_type": "code",
   "execution_count": 11,
   "id": "3abfda7f",
   "metadata": {},
   "outputs": [],
   "source": [
    "os.makedirs(dst, exist_ok=True)"
   ]
  },
  {
   "cell_type": "code",
   "execution_count": 5,
   "id": "8a4b136b",
   "metadata": {},
   "outputs": [],
   "source": [
    "for i in output:\n",
    "    shutil.copy(i,dst+i.split('/')[2] + '.nii.gz')"
   ]
  },
  {
   "cell_type": "code",
   "execution_count": null,
   "id": "1a70230b",
   "metadata": {},
   "outputs": [],
   "source": []
  },
  {
   "cell_type": "code",
   "execution_count": 18,
   "id": "8ab9ab9d",
   "metadata": {},
   "outputs": [],
   "source": [
    "root_dir = \"/scratch/scratch6/akansh12/Parse_data/evaluation/\"\n",
    "test_files_path = sorted(glob.glob(os.path.join(root_dir, \"*.nii.gz\")))\n",
    "test_data = [{\"images\": image_name } for image_name in test_files_path]"
   ]
  },
  {
   "cell_type": "code",
   "execution_count": null,
   "id": "140b855d",
   "metadata": {},
   "outputs": [],
   "source": []
  },
  {
   "cell_type": "code",
   "execution_count": null,
   "id": "1d316784",
   "metadata": {},
   "outputs": [],
   "source": []
  },
  {
   "cell_type": "code",
   "execution_count": null,
   "id": "6948b18e",
   "metadata": {},
   "outputs": [],
   "source": []
  },
  {
   "cell_type": "code",
   "execution_count": null,
   "id": "a91caaba",
   "metadata": {},
   "outputs": [],
   "source": []
  },
  {
   "cell_type": "code",
   "execution_count": null,
   "id": "884fe36e",
   "metadata": {},
   "outputs": [],
   "source": []
  },
  {
   "cell_type": "code",
   "execution_count": null,
   "id": "f9b21386",
   "metadata": {},
   "outputs": [],
   "source": []
  },
  {
   "cell_type": "code",
   "execution_count": null,
   "id": "8a50cc7a",
   "metadata": {},
   "outputs": [],
   "source": []
  },
  {
   "cell_type": "code",
   "execution_count": null,
   "id": "824eff32",
   "metadata": {},
   "outputs": [],
   "source": []
  },
  {
   "cell_type": "code",
   "execution_count": 15,
   "id": "a199cc5d",
   "metadata": {},
   "outputs": [
    {
     "name": "stderr",
     "output_type": "stream",
     "text": [
      "100%|█████████████████████████████████████████████████████████████████████████████████████████████████████████████████████| 30/30 [03:27<00:00,  6.91s/it]\n"
     ]
    }
   ],
   "source": [
    "##old\n",
    "for i in tqdm(test_data):\n",
    "    input_image = sitk.ReadImage(i['images'])\n",
    "    input_array = sitk.GetArrayFromImage(input_image)\n",
    "    resolution = input_image.GetSpacing()\n",
    "    masked = nib.load(\"./submit_old/\"+ i['images'].split('/')[-1])\n",
    "    mask_image = sitk.GetImageFromArray(np.swapaxes(masked.get_fdata(), 0,2))\n",
    "    mask_image.SetOrigin(input_image.GetOrigin())\n",
    "    mask_image.SetSpacing(input_image.GetSpacing())\n",
    "    sitk.WriteImage(mask_image, \"./submit/\"+i['images'].split('/')[-1])"
   ]
  },
  {
   "cell_type": "code",
   "execution_count": 16,
   "id": "fbc9ccfb",
   "metadata": {},
   "outputs": [
    {
     "name": "stdout",
     "output_type": "stream",
     "text": [
      "  adding: submit/ (stored 0%)\n",
      "  adding: submit/PA000219.nii.gz (deflated 77%)\n",
      "  adding: submit/PA000164.nii.gz (deflated 79%)\n",
      "  adding: submit/PA000316.nii.gz (deflated 86%)\n",
      "  adding: submit/PA000105.nii.gz (deflated 80%)\n",
      "  adding: submit/PA000032.nii.gz (deflated 78%)\n",
      "  adding: submit/PA000136.nii.gz (deflated 81%)\n",
      "  adding: submit/PA000122.nii.gz (deflated 78%)\n",
      "  adding: submit/PA000013.nii.gz (deflated 78%)\n",
      "  adding: submit/PA000044.nii.gz (deflated 80%)\n",
      "  adding: submit/PA000312.nii.gz (deflated 83%)\n",
      "  adding: submit/PA000114.nii.gz (deflated 80%)\n",
      "  adding: submit/PA000087.nii.gz (deflated 85%)\n",
      "  adding: submit/PA000126.nii.gz (deflated 81%)\n",
      "  adding: submit/PA000059.nii.gz (deflated 76%)\n",
      "  adding: submit/PA000069.nii.gz (deflated 82%)\n",
      "  adding: submit/PA000051.nii.gz (deflated 82%)\n",
      "  adding: submit/PA000218.nii.gz (deflated 77%)\n",
      "  adding: submit/PA000117.nii.gz (deflated 81%)\n",
      "  adding: submit/PA000269.nii.gz (deflated 77%)\n",
      "  adding: submit/PA000172.nii.gz (deflated 87%)\n",
      "  adding: submit/PA000304.nii.gz (deflated 80%)\n",
      "  adding: submit/PA000165.nii.gz (deflated 77%)\n",
      "  adding: submit/PA000061.nii.gz (deflated 80%)\n",
      "  adding: submit/PA000057.nii.gz (deflated 84%)\n",
      "  adding: submit/PA000288.nii.gz (deflated 77%)\n",
      "  adding: submit/PA000187.nii.gz (deflated 77%)\n",
      "  adding: submit/PA000256.nii.gz (deflated 77%)\n",
      "  adding: submit/PA000119.nii.gz (deflated 80%)\n",
      "  adding: submit/PA000045.nii.gz (deflated 80%)\n",
      "  adding: submit/PA000192.nii.gz (deflated 79%)\n"
     ]
    }
   ],
   "source": [
    "!zip -r submit.zip ./submit"
   ]
  },
  {
   "cell_type": "code",
   "execution_count": null,
   "id": "17488725",
   "metadata": {},
   "outputs": [],
   "source": []
  }
 ],
 "metadata": {
  "kernelspec": {
   "display_name": "env",
   "language": "python",
   "name": "env"
  },
  "language_info": {
   "codemirror_mode": {
    "name": "ipython",
    "version": 3
   },
   "file_extension": ".py",
   "mimetype": "text/x-python",
   "name": "python",
   "nbconvert_exporter": "python",
   "pygments_lexer": "ipython3",
   "version": "3.7.6"
  }
 },
 "nbformat": 4,
 "nbformat_minor": 5
}
