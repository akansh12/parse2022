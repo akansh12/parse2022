{
 "cells": [
  {
   "cell_type": "markdown",
   "id": "a49292b4",
   "metadata": {},
   "source": [
    "- Load the nibabel file\n",
    "- HU value in between -700 to 300. See if needed? or Just scale.\n",
    "- Standardize in between 0-1\n",
    "- Resample 256x256x200\n",
    "- Create image/.npy dataset for the same\n",
    "- Use the previous UNET arch to train the model"
   ]
  },
  {
   "cell_type": "code",
   "execution_count": 2,
   "id": "8a57c30f",
   "metadata": {},
   "outputs": [
    {
     "data": {
      "text/plain": [
       "20000"
      ]
     },
     "execution_count": 2,
     "metadata": {},
     "output_type": "execute_result"
    }
   ],
   "source": [
    "100*200"
   ]
  },
  {
   "cell_type": "code",
   "execution_count": null,
   "id": "e42bf7af",
   "metadata": {},
   "outputs": [],
   "source": []
  },
  {
   "cell_type": "code",
   "execution_count": null,
   "id": "c0f3f9d4",
   "metadata": {},
   "outputs": [],
   "source": []
  }
 ],
 "metadata": {
  "kernelspec": {
   "display_name": "env",
   "language": "python",
   "name": "env"
  },
  "language_info": {
   "codemirror_mode": {
    "name": "ipython",
    "version": 3
   },
   "file_extension": ".py",
   "mimetype": "text/x-python",
   "name": "python",
   "nbconvert_exporter": "python",
   "pygments_lexer": "ipython3",
   "version": "3.7.6"
  }
 },
 "nbformat": 4,
 "nbformat_minor": 5
}
