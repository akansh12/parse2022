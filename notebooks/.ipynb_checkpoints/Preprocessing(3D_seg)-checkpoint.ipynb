{
 "cells": [
  {
   "cell_type": "markdown",
   "id": "ce983a78",
   "metadata": {},
   "source": [
    "- Resample to 256x256xZ\n",
    "- HU value: -700 to 300\n",
    "- Min-max scaling\n",
    "- Crop? (Future work)\n",
    "- Spilt in train-val\n",
    "- Save as numpy"
   ]
  },
  {
   "cell_type": "code",
   "execution_count": 32,
   "id": "0cd0eea1",
   "metadata": {},
   "outputs": [],
   "source": [
    "import nibabel as nib\n",
    "import numpy as np\n",
    "import os\n",
    "from pathlib import Path\n",
    "import torch\n",
    "import nibabel.processing\n",
    "from tqdm.notebook import tqdm\n",
    "import matplotlib.pyplot as plt"
   ]
  },
  {
   "cell_type": "code",
   "execution_count": 6,
   "id": "1b9b2acf",
   "metadata": {},
   "outputs": [],
   "source": [
    "root_path = Path(\"/scratch/scratch6/akansh12/Parse_data/train/train/\")\n",
    "train_image_file = list(root_path.glob(\"*/image/*\"))\n",
    "train_label_file = list(root_path.glob(\"*/label/*\"))"
   ]
  },
  {
   "cell_type": "code",
   "execution_count": 39,
   "id": "6a4d6de0",
   "metadata": {},
   "outputs": [],
   "source": [
    "#helper\n",
    "def change_img_to_label_path(path):\n",
    "    parts = list(path.parts)\n",
    "    parts[parts.index(\"image\")] = \"label\"  \n",
    "    return Path(*parts)\n",
    "\n",
    "def standardize(normalized):\n",
    "    standardized = (normalized - normalized.min()) / (normalized.max() - normalized.min())\n",
    "    return standardized \n",
    "\n",
    "def windowing(scan, window):\n",
    "    min_value = window[0]\n",
    "    max_value = window[1]\n",
    "    return np.clip(scan,min_value, max_value)\n",
    "\n",
    "def resample_ct(scan,shape, voxel_size, orientation):\n",
    "    return nibabel.processing.conform(scan, shape, voxel_size, orientation = orientation)   "
   ]
  },
  {
   "cell_type": "code",
   "execution_count": null,
   "id": "b69cc0ae",
   "metadata": {},
   "outputs": [],
   "source": [
    "save_root = Path()\n",
    "for i, ct_file_path in enumerate(train_image_file):\n",
    "    path_to_label = change_img_to_label_path(ct_file_path)\n",
    "    ct_orig = nib.load(ct_file_path)\n",
    "    ct_label = nib.load(path_to_label)\n",
    "    \n",
    "    ### Resample\n",
    "    ct_orig_resampled = resample_ct(ct_orig, (256,256,200), (2,2,2), 'LPS')\n",
    "    ct_label_resample = resample_ct(ct_label, (256,256,200), (2,2,2), 'LPS')\n",
    "    \n",
    "    ###Standized\n",
    "    standardize\n",
    "    \n",
    "    \n",
    "    \n",
    "    \n",
    "    \n",
    "    "
   ]
  },
  {
   "cell_type": "code",
   "execution_count": 24,
   "id": "e19cf7a8",
   "metadata": {},
   "outputs": [],
   "source": [
    "ct_file_path = train_image_file[0]\n",
    "ct_orig = nib.load(ct_file_path)\n",
    "ct_orig_data = ct_orig.get_fdata()"
   ]
  },
  {
   "cell_type": "code",
   "execution_count": 28,
   "id": "e9903d91",
   "metadata": {},
   "outputs": [],
   "source": [
    "a = windowing(ct_orig_data,[-700, 300])"
   ]
  },
  {
   "cell_type": "code",
   "execution_count": 36,
   "id": "7b765b3d",
   "metadata": {},
   "outputs": [],
   "source": [
    "a = standardize(a)"
   ]
  },
  {
   "cell_type": "code",
   "execution_count": 41,
   "id": "510e1ec6",
   "metadata": {},
   "outputs": [
    {
     "data": {
      "text/plain": [
       "<nibabel.nifti1.Nifti1Image at 0x7f72d0b2c2d0>"
      ]
     },
     "execution_count": 41,
     "metadata": {},
     "output_type": "execute_result"
    }
   ],
   "source": [
    "resample_ct(ct_orig, (256,256,200), (2,2,2), 'LPS')"
   ]
  },
  {
   "cell_type": "code",
   "execution_count": null,
   "id": "742f3cc2",
   "metadata": {},
   "outputs": [],
   "source": []
  }
 ],
 "metadata": {
  "kernelspec": {
   "display_name": "env",
   "language": "python",
   "name": "env"
  },
  "language_info": {
   "codemirror_mode": {
    "name": "ipython",
    "version": 3
   },
   "file_extension": ".py",
   "mimetype": "text/x-python",
   "name": "python",
   "nbconvert_exporter": "python",
   "pygments_lexer": "ipython3",
   "version": "3.7.6"
  }
 },
 "nbformat": 4,
 "nbformat_minor": 5
}
