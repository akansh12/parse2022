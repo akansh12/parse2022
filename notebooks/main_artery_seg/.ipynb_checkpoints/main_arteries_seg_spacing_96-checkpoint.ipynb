{
 "cells": [
  {
   "cell_type": "code",
   "execution_count": null,
   "id": "e8ee3d2b",
   "metadata": {},
   "outputs": [],
   "source": [
    "import os\n",
    "import glob as glob"
   ]
  },
  {
   "cell_type": "code",
   "execution_count": 4,
   "id": "bad2b8b6",
   "metadata": {},
   "outputs": [],
   "source": [
    "root_dir = \"/scratch/scratch6/akansh12/Parse_data/train/train/\"\n",
    "train_images = sorted(glob.glob(os.path.join(root_dir, \"*\", 'image', \"*.nii.gz\")))\n",
    "train_labels = sorted(glob.glob(os.path.join(\"./labels/\", \"*.nii.gz\")))\n",
    "\n",
    "data_dicts = [{\"image\": images_name, \"label\": label_name} for images_name, label_name in zip(train_images, train_labels)]\n",
    "train_files, val_files = data_dicts[:-9], data_dicts[-9:]\n",
    "set_determinism(seed = 0)"
   ]
  },
  {
   "cell_type": "code",
   "execution_count": null,
   "id": "6e3f9de7",
   "metadata": {},
   "outputs": [],
   "source": []
  },
  {
   "cell_type": "code",
   "execution_count": null,
   "id": "4035be2b",
   "metadata": {},
   "outputs": [],
   "source": []
  },
  {
   "cell_type": "code",
   "execution_count": null,
   "id": "00983a35",
   "metadata": {},
   "outputs": [],
   "source": []
  },
  {
   "cell_type": "code",
   "execution_count": null,
   "id": "acd767e3",
   "metadata": {},
   "outputs": [],
   "source": []
  },
  {
   "cell_type": "markdown",
   "id": "0f975095",
   "metadata": {},
   "source": [
    "### Test set"
   ]
  },
  {
   "cell_type": "code",
   "execution_count": 4,
   "id": "902ca657",
   "metadata": {},
   "outputs": [],
   "source": [
    "import torch\n",
    "import monai\n",
    "from monai.utils import first, set_determinism\n",
    "from monai.transforms import (\n",
    "    AsDiscrete,\n",
    "    AsDiscreted,\n",
    "    EnsureChannelFirstd,\n",
    "    Compose,\n",
    "    CropForegroundd,\n",
    "    LoadImaged,\n",
    "    Orientationd,\n",
    "    RandCropByPosNegLabeld,\n",
    "    SaveImaged,\n",
    "    ScaleIntensityRanged,\n",
    "    Spacingd, \n",
    "    EnsureTyped,\n",
    "    EnsureType,\n",
    "    Invertd,\n",
    "    AddChanneld,\n",
    "    ToTensord,\n",
    "    RandFlipd,\n",
    "    RandRotate90d,\n",
    "    RandShiftIntensityd,\n",
    "    RandRotated,\n",
    "    Zoomd\n",
    "\n",
    ")\n",
    "# from monai.handlers.utils import from_engine\n",
    "from monai.networks.nets import UNet\n",
    "from monai.networks.layers import Norm\n",
    "from monai.metrics import DiceMetric\n",
    "from monai.losses import DiceCELoss, DiceFocalLoss\n",
    "from monai.inferers import sliding_window_inference\n",
    "from monai.data import CacheDataset, DataLoader, Dataset, decollate_batch\n",
    "from monai.config import print_config\n",
    "from monai.apps import download_and_extract\n",
    "import matplotlib.pyplot as plt\n",
    "import tempfile\n",
    "import shutil\n",
    "import os\n",
    "import glob\n",
    "import nibabel as nib\n",
    "import numpy as np\n",
    "from tqdm.notebook import tqdm"
   ]
  },
  {
   "cell_type": "code",
   "execution_count": 18,
   "id": "105bc4b8",
   "metadata": {},
   "outputs": [
    {
     "data": {
      "text/plain": [
       "<All keys matched successfully>"
      ]
     },
     "execution_count": 18,
     "metadata": {},
     "output_type": "execute_result"
    }
   ],
   "source": [
    "from monai.networks.nets import UNet\n",
    "from monai.networks.layers import Norm\n",
    "import torch\n",
    "from collections import OrderedDict\n",
    "device = torch.device(\"cuda\") if torch.cuda.is_available() else torch.device(\"cpu\") \n",
    "\n",
    "UNet_meatdata = dict(\n",
    "    spatial_dims=3,\n",
    "    in_channels=1,\n",
    "    out_channels=2,\n",
    "    channels=(16, 32, 64, 128, 256),\n",
    "    strides=(2, 2, 2, 2),\n",
    "    num_res_units=2,\n",
    "    norm=Norm.BATCH\n",
    "    )\n",
    "\n",
    "model = UNet(**UNet_meatdata).to(device)\n",
    "path2weights = \"/scratch/scratch6/akansh12/challenges/parse2022/temp/main_artery_seg_models/Unet_1000_no_hu_spacing_160_augmentations_loss_ce_main_artery_89_27.pth\"\n",
    "state_dict = torch.load(path2weights, map_location='cpu')\n",
    "\n",
    "for keyA, keyB in zip(state_dict, model.state_dict()):\n",
    "    state_dict = OrderedDict((keyB if k == keyA else k, v) for k, v in state_dict.items())\n",
    "model.load_state_dict(state_dict)"
   ]
  },
  {
   "cell_type": "code",
   "execution_count": 3,
   "id": "b5390a59",
   "metadata": {},
   "outputs": [
    {
     "name": "stderr",
     "output_type": "stream",
     "text": [
      "Loading dataset: 100%|█| 30/30 [00:39<0\n"
     ]
    }
   ],
   "source": [
    "root_dir = \"/scratch/scratch6/akansh12/Parse_data/evaluation/\"\n",
    "test_files_path = sorted(glob.glob(os.path.join(root_dir, \"*.nii.gz\")))\n",
    "test_data = [{\"images\": image_name } for image_name in test_files_path]\n",
    "\n",
    "test_transforms = Compose(\n",
    "    [\n",
    "        LoadImaged(keys=[\"images\"]),\n",
    "        EnsureChannelFirstd(keys=[\"images\"]),\n",
    "        Orientationd(keys=[\"images\"], axcodes=\"LPS\"),\n",
    "        ScaleIntensityRanged(\n",
    "            keys=[\"images\"], a_min=-1000, a_max=1000,\n",
    "            b_min=0.0, b_max=1.0, clip=True,\n",
    "        ),\n",
    "        CropForegroundd(keys=[\"images\"], source_key=\"images\"),\n",
    "        EnsureTyped(keys=[\"images\"]),\n",
    "    ]\n",
    ")\n",
    "\n",
    "test_ds = CacheDataset(\n",
    "    data = test_data, transform = test_transforms,\n",
    "    cache_rate = 1.0, num_workers = 4\n",
    ")\n",
    "test_loader = DataLoader(test_ds, batch_size = 1, shuffle = False, num_workers=4)"
   ]
  },
  {
   "cell_type": "code",
   "execution_count": 19,
   "id": "5e79ed56",
   "metadata": {},
   "outputs": [],
   "source": [
    "os.makedirs(\"./submit_orig_8927\",exist_ok= True)\n",
    "post_transforms = Compose([\n",
    "    Invertd(\n",
    "        keys=\"pred\",\n",
    "        transform=test_transforms,\n",
    "        orig_keys=\"images\",\n",
    "        meta_keys=None,\n",
    "        orig_meta_keys=None,\n",
    "        meta_key_postfix=\"meta_dict\",\n",
    "        nearest_interp=False,\n",
    "        to_tensor=True,\n",
    "    ),\n",
    "    AsDiscreted(keys=\"pred\", argmax=True),\n",
    "    SaveImaged(keys=\"pred\", meta_keys=\"pred_meta_dict\", output_dir=\"./submit_orig_8927/\", output_postfix='seg', resample=False),\n",
    "])"
   ]
  },
  {
   "cell_type": "code",
   "execution_count": 20,
   "id": "0cf8a5da",
   "metadata": {
    "collapsed": true
   },
   "outputs": [
    {
     "name": "stdout",
     "output_type": "stream",
     "text": [
      "2022-07-26 22:06:56,795 INFO image_writer.py:190 - writing: submit_orig_8927/PA000013/PA000013_seg.nii.gz\n",
      "2022-07-26 22:08:22,722 INFO image_writer.py:190 - writing: submit_orig_8927/PA000032/PA000032_seg.nii.gz\n",
      "2022-07-26 22:09:51,811 INFO image_writer.py:190 - writing: submit_orig_8927/PA000044/PA000044_seg.nii.gz\n",
      "2022-07-26 22:11:17,416 INFO image_writer.py:190 - writing: submit_orig_8927/PA000045/PA000045_seg.nii.gz\n",
      "2022-07-26 22:12:40,406 INFO image_writer.py:190 - writing: submit_orig_8927/PA000051/PA000051_seg.nii.gz\n",
      "2022-07-26 22:14:07,261 INFO image_writer.py:190 - writing: submit_orig_8927/PA000057/PA000057_seg.nii.gz\n",
      "2022-07-26 22:15:32,106 INFO image_writer.py:190 - writing: submit_orig_8927/PA000059/PA000059_seg.nii.gz\n",
      "2022-07-26 22:16:57,320 INFO image_writer.py:190 - writing: submit_orig_8927/PA000061/PA000061_seg.nii.gz\n",
      "2022-07-26 22:19:06,462 INFO image_writer.py:190 - writing: submit_orig_8927/PA000069/PA000069_seg.nii.gz\n",
      "2022-07-26 22:20:33,208 INFO image_writer.py:190 - writing: submit_orig_8927/PA000087/PA000087_seg.nii.gz\n",
      "2022-07-26 22:21:59,697 INFO image_writer.py:190 - writing: submit_orig_8927/PA000105/PA000105_seg.nii.gz\n",
      "2022-07-26 22:24:07,942 INFO image_writer.py:190 - writing: submit_orig_8927/PA000114/PA000114_seg.nii.gz\n",
      "2022-07-26 22:25:33,653 INFO image_writer.py:190 - writing: submit_orig_8927/PA000117/PA000117_seg.nii.gz\n",
      "2022-07-26 22:26:57,142 INFO image_writer.py:190 - writing: submit_orig_8927/PA000119/PA000119_seg.nii.gz\n",
      "2022-07-26 22:28:21,963 INFO image_writer.py:190 - writing: submit_orig_8927/PA000122/PA000122_seg.nii.gz\n",
      "2022-07-26 22:30:27,308 INFO image_writer.py:190 - writing: submit_orig_8927/PA000126/PA000126_seg.nii.gz\n",
      "2022-07-26 22:31:54,988 INFO image_writer.py:190 - writing: submit_orig_8927/PA000136/PA000136_seg.nii.gz\n",
      "2022-07-26 22:33:21,626 INFO image_writer.py:190 - writing: submit_orig_8927/PA000164/PA000164_seg.nii.gz\n",
      "2022-07-26 22:34:47,731 INFO image_writer.py:190 - writing: submit_orig_8927/PA000165/PA000165_seg.nii.gz\n",
      "2022-07-26 22:36:14,068 INFO image_writer.py:190 - writing: submit_orig_8927/PA000172/PA000172_seg.nii.gz\n",
      "2022-07-26 22:38:21,029 INFO image_writer.py:190 - writing: submit_orig_8927/PA000187/PA000187_seg.nii.gz\n",
      "2022-07-26 22:39:49,681 INFO image_writer.py:190 - writing: submit_orig_8927/PA000192/PA000192_seg.nii.gz\n",
      "2022-07-26 22:41:17,534 INFO image_writer.py:190 - writing: submit_orig_8927/PA000218/PA000218_seg.nii.gz\n",
      "2022-07-26 22:42:43,756 INFO image_writer.py:190 - writing: submit_orig_8927/PA000219/PA000219_seg.nii.gz\n",
      "2022-07-26 22:44:12,367 INFO image_writer.py:190 - writing: submit_orig_8927/PA000256/PA000256_seg.nii.gz\n",
      "2022-07-26 22:45:40,227 INFO image_writer.py:190 - writing: submit_orig_8927/PA000269/PA000269_seg.nii.gz\n",
      "2022-07-26 22:47:08,057 INFO image_writer.py:190 - writing: submit_orig_8927/PA000288/PA000288_seg.nii.gz\n",
      "2022-07-26 22:49:16,959 INFO image_writer.py:190 - writing: submit_orig_8927/PA000304/PA000304_seg.nii.gz\n",
      "2022-07-26 22:51:26,678 INFO image_writer.py:190 - writing: submit_orig_8927/PA000312/PA000312_seg.nii.gz\n",
      "2022-07-26 22:53:35,430 INFO image_writer.py:190 - writing: submit_orig_8927/PA000316/PA000316_seg.nii.gz\n"
     ]
    }
   ],
   "source": [
    "model.eval()\n",
    "with torch.no_grad():\n",
    "    for test_data in test_loader:\n",
    "        test_inputs = test_data[\"images\"]\n",
    "        roi_size = (224, 224, 224)\n",
    "        sw_batch_size = 4\n",
    "        test_data[\"pred\"] = sliding_window_inference(\n",
    "            test_inputs, roi_size, sw_batch_size, model, overlap=0.6)\n",
    "        test_data = [post_transforms(i) for i in decollate_batch(test_data)]"
   ]
  },
  {
   "cell_type": "code",
   "execution_count": null,
   "id": "5c031efc",
   "metadata": {},
   "outputs": [],
   "source": []
  },
  {
   "cell_type": "code",
   "execution_count": null,
   "id": "b44c6b43",
   "metadata": {},
   "outputs": [],
   "source": []
  },
  {
   "cell_type": "code",
   "execution_count": null,
   "id": "2a55d7d5",
   "metadata": {},
   "outputs": [],
   "source": []
  },
  {
   "cell_type": "markdown",
   "id": "ca03f302",
   "metadata": {},
   "source": [
    "### CCA Part"
   ]
  },
  {
   "cell_type": "code",
   "execution_count": 9,
   "id": "306d071b",
   "metadata": {},
   "outputs": [],
   "source": [
    "import SimpleITK as sitk\n",
    "import itk\n",
    "def GetLargestConnectedCompont(binarysitk_image):\n",
    "    \"\"\"\n",
    "    save largest object\n",
    "    :param sitk_maskimg:binary itk image\n",
    "    :return: largest region binary image\n",
    "    \"\"\"\n",
    "    cc = sitk.ConnectedComponent(binarysitk_image)\n",
    "    stats = sitk.LabelIntensityStatisticsImageFilter()\n",
    "    stats.SetGlobalDefaultNumberOfThreads(8)\n",
    "    stats.Execute(cc, binarysitk_image)\n",
    "    maxlabel = 0\n",
    "    maxsize = 0\n",
    "    for l in stats.GetLabels():\n",
    "        size = stats.GetPhysicalSize(l)\n",
    "        if maxsize < size:\n",
    "            maxlabel = l\n",
    "            maxsize = size\n",
    "    labelmaskimage = sitk.GetArrayFromImage(cc)\n",
    "    outmask = labelmaskimage.copy()\n",
    "    outmask[labelmaskimage == maxlabel] = 1\n",
    "    outmask[labelmaskimage != maxlabel] = 0\n",
    "    outmask_sitk = sitk.GetImageFromArray(outmask)\n",
    "    outmask_sitk.SetDirection(binarysitk_image.GetDirection())\n",
    "    outmask_sitk.SetSpacing(binarysitk_image.GetSpacing())\n",
    "    outmask_sitk.SetOrigin(binarysitk_image.GetOrigin())\n",
    "    return outmask_sitk"
   ]
  },
  {
   "cell_type": "code",
   "execution_count": 10,
   "id": "ded95183",
   "metadata": {},
   "outputs": [
    {
     "data": {
      "application/vnd.jupyter.widget-view+json": {
       "model_id": "477c4e68bad44867bbc87c435c4d2972",
       "version_major": 2,
       "version_minor": 0
      },
      "text/plain": [
       "  0%|          | 0/30 [00:00<?, ?it/s]"
      ]
     },
     "metadata": {},
     "output_type": "display_data"
    }
   ],
   "source": [
    "import os\n",
    "import glob\n",
    "import shutil\n",
    "import SimpleITK as sitk\n",
    "import nibabel as nib\n",
    "import numpy as np\n",
    "\n",
    "output = glob.glob(\"./submit_orig/*/*.nii.gz\")\n",
    "dst = \"./submit_wo_seg/\"\n",
    "os.makedirs(dst, exist_ok=True)\n",
    "for i in output:\n",
    "    shutil.copy(i,dst+i.split('/')[2] + '.nii.gz')\n",
    "    \n",
    "root_dir = \"/scratch/scratch6/akansh12/Parse_data/evaluation/\"\n",
    "test_files_path = sorted(glob.glob(os.path.join(root_dir, \"*.nii.gz\")))\n",
    "test_data = [{\"images\": image_name } for image_name in test_files_path]\n",
    "\n",
    "\n",
    "os.makedirs(\"./submit\", exist_ok=True)\n",
    "for i in tqdm(test_data):\n",
    "    input_image = sitk.ReadImage(i['images'])\n",
    "    input_array = sitk.GetArrayFromImage(input_image)\n",
    "    resolution = input_image.GetSpacing()\n",
    "    masked = nib.load(\"./submit_wo_seg/\"+ i['images'].split('/')[-1])\n",
    "    mask_image = sitk.GetImageFromArray(np.swapaxes(masked.get_fdata(), 0,2))\n",
    "    mask_image.SetOrigin(input_image.GetOrigin())\n",
    "    mask_image.SetSpacing(input_image.GetSpacing())\n",
    "    seg = sitk.BinaryThreshold(mask_image, lowerThreshold=0, upperThreshold=0.5, insideValue=0,\n",
    "                           outsideValue=1)\n",
    "    lc = GetLargestConnectedCompont(seg)    \n",
    "\n",
    "    sitk.WriteImage(lc, \"./submit/\"+i['images'].split('/')[-1])"
   ]
  },
  {
   "cell_type": "code",
   "execution_count": 8,
   "id": "f4c7b324",
   "metadata": {
    "collapsed": true
   },
   "outputs": [
    {
     "name": "stdout",
     "output_type": "stream",
     "text": [
      "  adding: submit/ (stored 0%)\n",
      "  adding: submit/PA000219.nii.gz (deflated 93%)\n",
      "  adding: submit/PA000164.nii.gz (deflated 94%)\n",
      "  adding: submit/PA000316.nii.gz (deflated 95%)\n",
      "  adding: submit/PA000105.nii.gz (deflated 93%)\n",
      "  adding: submit/PA000032.nii.gz (deflated 94%)\n",
      "  adding: submit/PA000136.nii.gz (deflated 94%)\n",
      "  adding: submit/PA000122.nii.gz (deflated 93%)\n",
      "  adding: submit/PA000013.nii.gz (deflated 93%)\n",
      "  adding: submit/PA000044.nii.gz (deflated 93%)\n",
      "  adding: submit/PA000312.nii.gz (deflated 95%)\n",
      "  adding: submit/PA000114.nii.gz (deflated 94%)\n",
      "  adding: submit/PA000087.nii.gz (deflated 94%)\n",
      "  adding: submit/PA000126.nii.gz (deflated 94%)\n",
      "  adding: submit/PA000059.nii.gz (deflated 93%)\n",
      "  adding: submit/PA000069.nii.gz (deflated 95%)\n",
      "  adding: submit/PA000051.nii.gz (deflated 94%)\n",
      "  adding: submit/PA000218.nii.gz (deflated 94%)\n",
      "  adding: submit/PA000117.nii.gz (deflated 94%)\n",
      "  adding: submit/PA000269.nii.gz (deflated 93%)\n",
      "  adding: submit/PA000172.nii.gz (deflated 94%)\n",
      "  adding: submit/PA000304.nii.gz (deflated 94%)\n",
      "  adding: submit/PA000165.nii.gz (deflated 94%)\n",
      "  adding: submit/PA000061.nii.gz (deflated 93%)\n",
      "  adding: submit/PA000057.nii.gz (deflated 95%)\n",
      "  adding: submit/PA000288.nii.gz (deflated 94%)\n",
      "  adding: submit/PA000187.nii.gz (deflated 93%)\n",
      "  adding: submit/PA000256.nii.gz (deflated 93%)\n",
      "  adding: submit/PA000119.nii.gz (deflated 94%)\n",
      "  adding: submit/PA000045.nii.gz (deflated 93%)\n",
      "  adding: submit/.ipynb_checkpoints/ (stored 0%)\n",
      "  adding: submit/PA000192.nii.gz (deflated 94%)\n"
     ]
    }
   ],
   "source": [
    "!zip  -r submit_main.zip ./submit"
   ]
  },
  {
   "cell_type": "code",
   "execution_count": null,
   "id": "a2f0be4f",
   "metadata": {},
   "outputs": [],
   "source": []
  },
  {
   "cell_type": "markdown",
   "id": "f445160f",
   "metadata": {},
   "source": [
    "### Main Atery Seg ensemble"
   ]
  },
  {
   "cell_type": "code",
   "execution_count": null,
   "id": "27e5ebca",
   "metadata": {},
   "outputs": [],
   "source": []
  }
 ],
 "metadata": {
  "kernelspec": {
   "display_name": "env",
   "language": "python",
   "name": "env"
  },
  "language_info": {
   "codemirror_mode": {
    "name": "ipython",
    "version": 3
   },
   "file_extension": ".py",
   "mimetype": "text/x-python",
   "name": "python",
   "nbconvert_exporter": "python",
   "pygments_lexer": "ipython3",
   "version": "3.7.6"
  }
 },
 "nbformat": 4,
 "nbformat_minor": 5
}
