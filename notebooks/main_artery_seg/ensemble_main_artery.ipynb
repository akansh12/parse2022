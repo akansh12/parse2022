{
 "cells": [
  {
   "cell_type": "code",
   "execution_count": 1,
   "id": "256e84e5",
   "metadata": {},
   "outputs": [],
   "source": [
    "import os\n",
    "import glob\n",
    "import shutil\n",
    "import SimpleITK as sitk\n",
    "import nibabel as nib\n",
    "import numpy as np\n",
    "from tqdm.notebook import tqdm\n",
    "import SimpleITK as sitk\n",
    "import itk\n"
   ]
  },
  {
   "cell_type": "code",
   "execution_count": 2,
   "id": "fc4a1d9d",
   "metadata": {},
   "outputs": [],
   "source": [
    "root_dir = \"/scratch/scratch6/akansh12/Parse_data/evaluation/\"\n",
    "test_files_path = sorted(glob.glob(os.path.join(root_dir, \"*.nii.gz\")))\n",
    "test_data = [{\"images\": image_name } for image_name in test_files_path]"
   ]
  },
  {
   "cell_type": "code",
   "execution_count": 3,
   "id": "2c732a3d",
   "metadata": {},
   "outputs": [],
   "source": [
    "def GetLargestConnectedCompont(binarysitk_image):\n",
    "    \"\"\"\n",
    "    save largest object\n",
    "    :param sitk_maskimg:binary itk image\n",
    "    :return: largest region binary image\n",
    "    \"\"\"\n",
    "    cc = sitk.ConnectedComponent(binarysitk_image)\n",
    "    stats = sitk.LabelIntensityStatisticsImageFilter()\n",
    "    stats.SetGlobalDefaultNumberOfThreads(8)\n",
    "    stats.Execute(cc, binarysitk_image)\n",
    "    maxlabel = 0\n",
    "    maxsize = 0\n",
    "    for l in stats.GetLabels():\n",
    "        size = stats.GetPhysicalSize(l)\n",
    "        if maxsize < size:\n",
    "            maxlabel = l\n",
    "            maxsize = size\n",
    "    labelmaskimage = sitk.GetArrayFromImage(cc)\n",
    "    outmask = labelmaskimage.copy()\n",
    "    outmask[labelmaskimage == maxlabel] = 1\n",
    "    outmask[labelmaskimage != maxlabel] = 0\n",
    "    outmask_sitk = sitk.GetImageFromArray(outmask)\n",
    "    outmask_sitk.SetDirection(binarysitk_image.GetDirection())\n",
    "    outmask_sitk.SetSpacing(binarysitk_image.GetSpacing())\n",
    "    outmask_sitk.SetOrigin(binarysitk_image.GetOrigin())\n",
    "    return outmask_sitk\n"
   ]
  },
  {
   "cell_type": "code",
   "execution_count": 4,
   "id": "7cb6a771",
   "metadata": {},
   "outputs": [],
   "source": [
    "unet_8909_files = sorted(glob.glob(\"./submit_orig_8927_main_artery/*/*.nii.gz\") )\n",
    "swin_8940_files = sorted(glob.glob(\"./swin_8940_main_artery/*/*.nii.gz\") )\n",
    "unet_8927_files = sorted(glob.glob(\"./submit_orig_8909_main_artery/*/*.nii.gz\")) "
   ]
  },
  {
   "cell_type": "code",
   "execution_count": 5,
   "id": "f37ee141",
   "metadata": {},
   "outputs": [],
   "source": [
    "mask_images = [unet_8909_files,\n",
    "swin_8940_files,\n",
    "unet_8927_files]"
   ]
  },
  {
   "cell_type": "code",
   "execution_count": 7,
   "id": "45d7e15d",
   "metadata": {},
   "outputs": [
    {
     "data": {
      "application/vnd.jupyter.widget-view+json": {
       "model_id": "2f6b1d80fd1b4a27849a6cfe13e7a732",
       "version_major": 2,
       "version_minor": 0
      },
      "text/plain": [
       "0it [00:00, ?it/s]"
      ]
     },
     "metadata": {},
     "output_type": "display_data"
    },
    {
     "data": {
      "application/vnd.jupyter.widget-view+json": {
       "model_id": "b503a30e48004407a52a660b37f3e0dd",
       "version_major": 2,
       "version_minor": 0
      },
      "text/plain": [
       "  0%|          | 0/3 [00:00<?, ?it/s]"
      ]
     },
     "metadata": {},
     "output_type": "display_data"
    },
    {
     "data": {
      "application/vnd.jupyter.widget-view+json": {
       "model_id": "3a3767490e264551946c2491baf0065d",
       "version_major": 2,
       "version_minor": 0
      },
      "text/plain": [
       "  0%|          | 0/3 [00:00<?, ?it/s]"
      ]
     },
     "metadata": {},
     "output_type": "display_data"
    },
    {
     "data": {
      "application/vnd.jupyter.widget-view+json": {
       "model_id": "374ae087c707445bb426f9769af3f9e0",
       "version_major": 2,
       "version_minor": 0
      },
      "text/plain": [
       "  0%|          | 0/3 [00:00<?, ?it/s]"
      ]
     },
     "metadata": {},
     "output_type": "display_data"
    },
    {
     "data": {
      "application/vnd.jupyter.widget-view+json": {
       "model_id": "9d8e483bebfb4607a814725796cfea4a",
       "version_major": 2,
       "version_minor": 0
      },
      "text/plain": [
       "  0%|          | 0/3 [00:00<?, ?it/s]"
      ]
     },
     "metadata": {},
     "output_type": "display_data"
    },
    {
     "data": {
      "application/vnd.jupyter.widget-view+json": {
       "model_id": "63d453428cd34e5e931cfb4be77c27b0",
       "version_major": 2,
       "version_minor": 0
      },
      "text/plain": [
       "  0%|          | 0/3 [00:00<?, ?it/s]"
      ]
     },
     "metadata": {},
     "output_type": "display_data"
    },
    {
     "data": {
      "application/vnd.jupyter.widget-view+json": {
       "model_id": "489983b3429e4a3fb64c6d92088c196d",
       "version_major": 2,
       "version_minor": 0
      },
      "text/plain": [
       "  0%|          | 0/3 [00:00<?, ?it/s]"
      ]
     },
     "metadata": {},
     "output_type": "display_data"
    },
    {
     "data": {
      "application/vnd.jupyter.widget-view+json": {
       "model_id": "ff09be7fea1a41f28b61d3708adff149",
       "version_major": 2,
       "version_minor": 0
      },
      "text/plain": [
       "  0%|          | 0/3 [00:00<?, ?it/s]"
      ]
     },
     "metadata": {},
     "output_type": "display_data"
    },
    {
     "data": {
      "application/vnd.jupyter.widget-view+json": {
       "model_id": "08e87ea2b64a42bdac03d0c0b810943b",
       "version_major": 2,
       "version_minor": 0
      },
      "text/plain": [
       "  0%|          | 0/3 [00:00<?, ?it/s]"
      ]
     },
     "metadata": {},
     "output_type": "display_data"
    },
    {
     "data": {
      "application/vnd.jupyter.widget-view+json": {
       "model_id": "12e88f006ddb4dee9cc262b174a1dba0",
       "version_major": 2,
       "version_minor": 0
      },
      "text/plain": [
       "  0%|          | 0/3 [00:00<?, ?it/s]"
      ]
     },
     "metadata": {},
     "output_type": "display_data"
    },
    {
     "data": {
      "application/vnd.jupyter.widget-view+json": {
       "model_id": "45a1e7c1aa404acfb0a40e4e9a6ebdf4",
       "version_major": 2,
       "version_minor": 0
      },
      "text/plain": [
       "  0%|          | 0/3 [00:00<?, ?it/s]"
      ]
     },
     "metadata": {},
     "output_type": "display_data"
    },
    {
     "data": {
      "application/vnd.jupyter.widget-view+json": {
       "model_id": "3039986adb094762830f5b4f63d57fb3",
       "version_major": 2,
       "version_minor": 0
      },
      "text/plain": [
       "  0%|          | 0/3 [00:00<?, ?it/s]"
      ]
     },
     "metadata": {},
     "output_type": "display_data"
    },
    {
     "data": {
      "application/vnd.jupyter.widget-view+json": {
       "model_id": "7dcb6e717db941dcba7d439736b8dc34",
       "version_major": 2,
       "version_minor": 0
      },
      "text/plain": [
       "  0%|          | 0/3 [00:00<?, ?it/s]"
      ]
     },
     "metadata": {},
     "output_type": "display_data"
    },
    {
     "data": {
      "application/vnd.jupyter.widget-view+json": {
       "model_id": "8f0796aa188f4ee2959e7e31b1011aa4",
       "version_major": 2,
       "version_minor": 0
      },
      "text/plain": [
       "  0%|          | 0/3 [00:00<?, ?it/s]"
      ]
     },
     "metadata": {},
     "output_type": "display_data"
    },
    {
     "data": {
      "application/vnd.jupyter.widget-view+json": {
       "model_id": "5a1818fa55e44ce6b9734b5545c74e6f",
       "version_major": 2,
       "version_minor": 0
      },
      "text/plain": [
       "  0%|          | 0/3 [00:00<?, ?it/s]"
      ]
     },
     "metadata": {},
     "output_type": "display_data"
    },
    {
     "data": {
      "application/vnd.jupyter.widget-view+json": {
       "model_id": "656283a48cdd4281b080d28e5031e610",
       "version_major": 2,
       "version_minor": 0
      },
      "text/plain": [
       "  0%|          | 0/3 [00:00<?, ?it/s]"
      ]
     },
     "metadata": {},
     "output_type": "display_data"
    },
    {
     "data": {
      "application/vnd.jupyter.widget-view+json": {
       "model_id": "673fedbf6c774a56890153838e648749",
       "version_major": 2,
       "version_minor": 0
      },
      "text/plain": [
       "  0%|          | 0/3 [00:00<?, ?it/s]"
      ]
     },
     "metadata": {},
     "output_type": "display_data"
    },
    {
     "data": {
      "application/vnd.jupyter.widget-view+json": {
       "model_id": "3d1b7a3f3e5145bb821cba516e57481a",
       "version_major": 2,
       "version_minor": 0
      },
      "text/plain": [
       "  0%|          | 0/3 [00:00<?, ?it/s]"
      ]
     },
     "metadata": {},
     "output_type": "display_data"
    },
    {
     "data": {
      "application/vnd.jupyter.widget-view+json": {
       "model_id": "407b75d7e36f437893f44cc2272ab51d",
       "version_major": 2,
       "version_minor": 0
      },
      "text/plain": [
       "  0%|          | 0/3 [00:00<?, ?it/s]"
      ]
     },
     "metadata": {},
     "output_type": "display_data"
    },
    {
     "data": {
      "application/vnd.jupyter.widget-view+json": {
       "model_id": "ea520d9351494838a3b0927fde081452",
       "version_major": 2,
       "version_minor": 0
      },
      "text/plain": [
       "  0%|          | 0/3 [00:00<?, ?it/s]"
      ]
     },
     "metadata": {},
     "output_type": "display_data"
    },
    {
     "data": {
      "application/vnd.jupyter.widget-view+json": {
       "model_id": "eeb7cf5decd443659425c4410c51ada7",
       "version_major": 2,
       "version_minor": 0
      },
      "text/plain": [
       "  0%|          | 0/3 [00:00<?, ?it/s]"
      ]
     },
     "metadata": {},
     "output_type": "display_data"
    },
    {
     "data": {
      "application/vnd.jupyter.widget-view+json": {
       "model_id": "cf3b251f342b4b0b8aed93cef0ec4168",
       "version_major": 2,
       "version_minor": 0
      },
      "text/plain": [
       "  0%|          | 0/3 [00:00<?, ?it/s]"
      ]
     },
     "metadata": {},
     "output_type": "display_data"
    },
    {
     "data": {
      "application/vnd.jupyter.widget-view+json": {
       "model_id": "22622c46ddf342f8b7222192a9e30663",
       "version_major": 2,
       "version_minor": 0
      },
      "text/plain": [
       "  0%|          | 0/3 [00:00<?, ?it/s]"
      ]
     },
     "metadata": {},
     "output_type": "display_data"
    },
    {
     "data": {
      "application/vnd.jupyter.widget-view+json": {
       "model_id": "28d870ee8041436293132b7b7bd2e86e",
       "version_major": 2,
       "version_minor": 0
      },
      "text/plain": [
       "  0%|          | 0/3 [00:00<?, ?it/s]"
      ]
     },
     "metadata": {},
     "output_type": "display_data"
    },
    {
     "data": {
      "application/vnd.jupyter.widget-view+json": {
       "model_id": "4238ebb5505e45bb9091942ea3bf0e3b",
       "version_major": 2,
       "version_minor": 0
      },
      "text/plain": [
       "  0%|          | 0/3 [00:00<?, ?it/s]"
      ]
     },
     "metadata": {},
     "output_type": "display_data"
    },
    {
     "data": {
      "application/vnd.jupyter.widget-view+json": {
       "model_id": "4e3b42fd53804b76afea1798b636e583",
       "version_major": 2,
       "version_minor": 0
      },
      "text/plain": [
       "  0%|          | 0/3 [00:00<?, ?it/s]"
      ]
     },
     "metadata": {},
     "output_type": "display_data"
    },
    {
     "data": {
      "application/vnd.jupyter.widget-view+json": {
       "model_id": "220ddd29b4144b819d606f7ca152e5c0",
       "version_major": 2,
       "version_minor": 0
      },
      "text/plain": [
       "  0%|          | 0/3 [00:00<?, ?it/s]"
      ]
     },
     "metadata": {},
     "output_type": "display_data"
    },
    {
     "data": {
      "application/vnd.jupyter.widget-view+json": {
       "model_id": "4ff62eaf860b474291b5b6c2dd8b2b60",
       "version_major": 2,
       "version_minor": 0
      },
      "text/plain": [
       "  0%|          | 0/3 [00:00<?, ?it/s]"
      ]
     },
     "metadata": {},
     "output_type": "display_data"
    },
    {
     "data": {
      "application/vnd.jupyter.widget-view+json": {
       "model_id": "326122e68c2a460ab558136a46033a30",
       "version_major": 2,
       "version_minor": 0
      },
      "text/plain": [
       "  0%|          | 0/3 [00:00<?, ?it/s]"
      ]
     },
     "metadata": {},
     "output_type": "display_data"
    },
    {
     "data": {
      "application/vnd.jupyter.widget-view+json": {
       "model_id": "de574dcb729844eeb2759bb4cedeeed9",
       "version_major": 2,
       "version_minor": 0
      },
      "text/plain": [
       "  0%|          | 0/3 [00:00<?, ?it/s]"
      ]
     },
     "metadata": {},
     "output_type": "display_data"
    },
    {
     "data": {
      "application/vnd.jupyter.widget-view+json": {
       "model_id": "6b9e3c249b7544bd95ceae1b763752cd",
       "version_major": 2,
       "version_minor": 0
      },
      "text/plain": [
       "  0%|          | 0/3 [00:00<?, ?it/s]"
      ]
     },
     "metadata": {},
     "output_type": "display_data"
    }
   ],
   "source": [
    "for num,i in tqdm(enumerate(test_data)):\n",
    "    input_image = sitk.ReadImage(i['images'])\n",
    "    input_array = sitk.GetArrayFromImage(input_image)\n",
    "    \n",
    "    masked = 0\n",
    "    for j in tqdm(mask_images):\n",
    "        masked += nib.load(j[num]).get_fdata()\n",
    "        \n",
    "    masked = masked/len(mask_images)\n",
    "    masked[np.nonzero(masked >= 0.5)] = 1.0\n",
    "    masked[np.nonzero(masked < 0.5)] = 0.0\n",
    "    \n",
    "    mask_image = sitk.GetImageFromArray(np.swapaxes(masked, 0,2))\n",
    "    masked = sitk.BinaryThreshold(mask_image, lowerThreshold=0, upperThreshold=0.5, insideValue=0,\n",
    "                       outsideValue=1)\n",
    "    \n",
    "    mask_image = GetLargestConnectedCompont(masked)\n",
    "    mask_image.SetOrigin(input_image.GetOrigin())\n",
    "    mask_image.SetSpacing(input_image.GetSpacing())\n",
    "    sitk.WriteImage(mask_image, \"./submit/\"+i['images'].split('/')[-1])\n",
    "    "
   ]
  },
  {
   "cell_type": "code",
   "execution_count": 8,
   "id": "95af4145",
   "metadata": {},
   "outputs": [
    {
     "name": "stdout",
     "output_type": "stream",
     "text": [
      "  adding: submit/ (stored 0%)\n",
      "  adding: submit/PA000219.nii.gz (deflated 93%)\n",
      "  adding: submit/PA000164.nii.gz (deflated 94%)\n",
      "  adding: submit/PA000316.nii.gz (deflated 95%)\n",
      "  adding: submit/PA000105.nii.gz (deflated 93%)\n",
      "  adding: submit/PA000032.nii.gz (deflated 94%)\n",
      "  adding: submit/PA000136.nii.gz (deflated 94%)\n",
      "  adding: submit/PA000122.nii.gz (deflated 93%)\n",
      "  adding: submit/PA000013.nii.gz (deflated 93%)\n",
      "  adding: submit/PA000044.nii.gz (deflated 94%)\n",
      "  adding: submit/PA000312.nii.gz (deflated 95%)\n",
      "  adding: submit/PA000114.nii.gz (deflated 94%)\n",
      "  adding: submit/PA000087.nii.gz (deflated 95%)\n",
      "  adding: submit/PA000126.nii.gz (deflated 94%)\n",
      "  adding: submit/PA000059.nii.gz (deflated 93%)\n",
      "  adding: submit/PA000069.nii.gz (deflated 95%)\n",
      "  adding: submit/PA000051.nii.gz (deflated 94%)\n",
      "  adding: submit/PA000218.nii.gz (deflated 94%)\n",
      "  adding: submit/PA000117.nii.gz (deflated 93%)\n",
      "  adding: submit/PA000269.nii.gz (deflated 93%)\n",
      "  adding: submit/PA000172.nii.gz (deflated 94%)\n",
      "  adding: submit/PA000304.nii.gz (deflated 94%)\n",
      "  adding: submit/PA000165.nii.gz (deflated 94%)\n",
      "  adding: submit/PA000061.nii.gz (deflated 93%)\n",
      "  adding: submit/PA000057.nii.gz (deflated 95%)\n",
      "  adding: submit/PA000288.nii.gz (deflated 93%)\n",
      "  adding: submit/PA000187.nii.gz (deflated 93%)\n",
      "  adding: submit/PA000256.nii.gz (deflated 93%)\n",
      "  adding: submit/PA000119.nii.gz (deflated 94%)\n",
      "  adding: submit/PA000045.nii.gz (deflated 93%)\n",
      "  adding: submit/.ipynb_checkpoints/ (stored 0%)\n",
      "  adding: submit/PA000192.nii.gz (deflated 94%)\n"
     ]
    }
   ],
   "source": [
    "!zip -r submit.zip ./submit/"
   ]
  },
  {
   "cell_type": "code",
   "execution_count": null,
   "id": "4ee6bb9f",
   "metadata": {},
   "outputs": [],
   "source": []
  }
 ],
 "metadata": {
  "kernelspec": {
   "display_name": "env",
   "language": "python",
   "name": "env"
  },
  "language_info": {
   "codemirror_mode": {
    "name": "ipython",
    "version": 3
   },
   "file_extension": ".py",
   "mimetype": "text/x-python",
   "name": "python",
   "nbconvert_exporter": "python",
   "pygments_lexer": "ipython3",
   "version": "3.7.6"
  }
 },
 "nbformat": 4,
 "nbformat_minor": 5
}
