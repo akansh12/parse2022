{
 "cells": [
  {
   "cell_type": "code",
   "execution_count": 1,
   "id": "548c1278",
   "metadata": {},
   "outputs": [],
   "source": [
    "import torch\n",
    "import monai\n",
    "from monai.utils import first, set_determinism\n",
    "from monai.transforms import (\n",
    "    AsDiscrete,\n",
    "    AsDiscreted,\n",
    "    EnsureChannelFirstd,\n",
    "    Compose,\n",
    "    CropForegroundd,\n",
    "    LoadImaged,\n",
    "    Orientationd,\n",
    "    RandCropByPosNegLabeld,\n",
    "    SaveImaged,\n",
    "    ScaleIntensityRanged,\n",
    "    Spacingd, \n",
    "    EnsureTyped,\n",
    "    EnsureType,\n",
    "    Invertd,\n",
    "    KeepLargestConnectedComponent\n",
    ")\n",
    "from monai.networks.nets import UNet\n",
    "from monai.networks.layers import Norm\n",
    "from monai.metrics import DiceMetric\n",
    "from monai.losses import DiceLoss\n",
    "from monai.inferers import sliding_window_inference\n",
    "from monai.data import CacheDataset, DataLoader, Dataset, decollate_batch\n",
    "from monai.config import print_config\n",
    "from monai.apps import download_and_extract\n",
    "import matplotlib.pyplot as plt\n",
    "import tempfile\n",
    "import shutil\n",
    "import os\n",
    "import glob\n",
    "import nibabel as nib\n",
    "import numpy as np\n",
    "from tqdm.notebook import tqdm"
   ]
  },
  {
   "cell_type": "code",
   "execution_count": 2,
   "id": "8c209d20",
   "metadata": {},
   "outputs": [],
   "source": [
    "root_dir = \"/scratch/scratch6/akansh12/Parse_data/train/train/\"\n",
    "train_images = sorted(glob.glob(os.path.join(root_dir, \"*\", 'image', \"*.nii.gz\")))\n",
    "train_labels = sorted(glob.glob(os.path.join(root_dir, \"*\", 'label', \"*.nii.gz\")))\n",
    "\n",
    "data_dicts = [{\"images\": images_name, \"labels\": label_name} for images_name, label_name in zip(train_images, train_labels)]\n",
    "train_files, val_files = data_dicts[:-9], data_dicts[-9:]\n",
    "set_determinism(seed = 0)"
   ]
  },
  {
   "cell_type": "code",
   "execution_count": 3,
   "id": "12b541a4",
   "metadata": {},
   "outputs": [
    {
     "name": "stderr",
     "output_type": "stream",
     "text": [
      "Loading dataset: 100%|██████████████████████████████████████████████████████████████████████████████████████████████████████| 9/9 [00:32<00:00,  3.56s/it]\n"
     ]
    }
   ],
   "source": [
    "val_transforms = Compose(\n",
    "    [\n",
    "        LoadImaged(keys=[\"images\", \"labels\"]),\n",
    "        EnsureChannelFirstd(keys=[\"images\", \"labels\"]),\n",
    "        Orientationd(keys=[\"images\", \"labels\"], axcodes=\"LPS\"),\n",
    "\n",
    "        ScaleIntensityRanged(\n",
    "            keys=[\"images\"], a_min=-1000, a_max=1000,\n",
    "            b_min=0.0, b_max=1.0, clip=True,\n",
    "        ),\n",
    "        CropForegroundd(keys=[\"images\", \"labels\"], source_key=\"images\"),\n",
    "        EnsureTyped(keys=[\"images\", \"labels\"]),\n",
    "    ]\n",
    ")\n",
    "\n",
    "val_ds = CacheDataset(\n",
    "    data = val_files, transform = val_transforms,\n",
    "    cache_rate = 1.0, num_workers = 4\n",
    ")\n",
    "val_loader = DataLoader(val_ds, batch_size = 1, shuffle = False, num_workers=4)"
   ]
  },
  {
   "cell_type": "code",
   "execution_count": null,
   "id": "9dff3974",
   "metadata": {},
   "outputs": [],
   "source": []
  }
 ],
 "metadata": {
  "kernelspec": {
   "display_name": "env",
   "language": "python",
   "name": "env"
  },
  "language_info": {
   "codemirror_mode": {
    "name": "ipython",
    "version": 3
   },
   "file_extension": ".py",
   "mimetype": "text/x-python",
   "name": "python",
   "nbconvert_exporter": "python",
   "pygments_lexer": "ipython3",
   "version": "3.7.6"
  }
 },
 "nbformat": 4,
 "nbformat_minor": 5
}
